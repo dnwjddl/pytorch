{
 "cells": [
  {
   "cell_type": "code",
   "execution_count": 1,
   "metadata": {},
   "outputs": [
    {
     "name": "stderr",
     "output_type": "stream",
     "text": [
      "\n",
      "Bad key \"text.kerning_factor\" on line 4 in\n",
      "C:\\Users\\woojung\\anaconda3\\lib\\site-packages\\matplotlib\\mpl-data\\stylelib\\_classic_test_patch.mplstyle.\n",
      "You probably need to get an updated matplotlibrc file from\n",
      "http://github.com/matplotlib/matplotlib/blob/master/matplotlibrc.template\n",
      "or from the matplotlib source distribution\n"
     ]
    }
   ],
   "source": [
    "from torchvision import datasets, transforms, utils\n",
    "from torch.utils import data \n",
    "\n",
    "#torch.utils.data\n",
    "#데이터 로드\n",
    "\n",
    "#torchvision.utils\n",
    "#데이터 저장 및 시각화하기 위한 도구가 들어있는 모듈\n",
    "\n",
    "import matplotlib.pyplot as plt\n",
    "import numpy as np"
   ]
  },
  {
   "cell_type": "code",
   "execution_count": 2,
   "metadata": {},
   "outputs": [],
   "source": [
    "## transform: 텐서로 변환, 크기 조절(resize), 크롭(crop), 밝기(brightness), 대비(contrast)등 사용 가능\n",
    "transform = transforms.Compose([\n",
    "    transforms.ToTensor()\n",
    "])"
   ]
  },
  {
   "cell_type": "code",
   "execution_count": 3,
   "metadata": {},
   "outputs": [],
   "source": [
    "#FashionMNIST 데이터 로드\n",
    "trainset = datasets.FashionMNIST(\n",
    "    root = './.data/',\n",
    "    train = True,\n",
    "    download = True,\n",
    "    transform = transform\n",
    ")\n",
    "testset = datasets.FashionMNIST(\n",
    "    root = './.data/',\n",
    "    train = False,\n",
    "    download = True,\n",
    "    transform = transform\n",
    ")"
   ]
  },
  {
   "cell_type": "code",
   "execution_count": 4,
   "metadata": {},
   "outputs": [],
   "source": [
    "batch_size = 16\n",
    "train_loader = data.DataLoader(\n",
    "    dataset= trainset,\n",
    "    batch_size = batch_size\n",
    ")\n",
    "test_loader = data.DataLoader(\n",
    "    dataset = testset,\n",
    "    batch_size = batch_size\n",
    ")"
   ]
  },
  {
   "cell_type": "code",
   "execution_count": 5,
   "metadata": {},
   "outputs": [],
   "source": [
    "## for문 사용하지 않고 iter()함수를 사용할 수 있음\n",
    "## iter()로 반복문 안에서 이용할 수 있도록 만들어준 뒤, next()함수를 이용하여 배치 1개를 가져옴\n",
    "dataiter = iter(train_loader)\n",
    "images, labels = next(dataiter)"
   ]
  },
  {
   "cell_type": "code",
   "execution_count": 6,
   "metadata": {},
   "outputs": [
    {
     "data": {
      "image/png": "[encoded data removed]",
      "text/plain": [
       "<Figure size 720x504 with 1 Axes>"
      ]
     },
     "metadata": {
      "needs_background": "light"
     },
     "output_type": "display_data"
    }
   ],
   "source": [
    "img = utils.make_grid(images, padding = 0) #make_grid()는 여러 이미지를 모아 하나의 이미지로 만들 수 있음\n",
    "npimg = img.numpy() #img는 파이토치의 텐서이므로, numpy로 바꿔줌\n",
    "plt.figure(figsize = (10,7))\n",
    "plt.imshow(np.transpose(npimg, (1,2,0))) #np.transpose를 사용하여 0번째 차원을 맨 뒤로 보내기 -> batchsize\n",
    "plt.show()"
   ]
  },
  {
   "cell_type": "code",
   "execution_count": 7,
   "metadata": {},
   "outputs": [],
   "source": [
    "CLASSES = {\n",
    "    0: 'T-shirt/top',\n",
    "    1: 'Trouser',\n",
    "    2: 'Pullover',\n",
    "    3: 'Dress',\n",
    "    4: 'Coat',\n",
    "    5: 'Sandal',\n",
    "    6: 'Shirt',\n",
    "    7: 'Sneaker',\n",
    "    8: 'Bag',\n",
    "    9: 'Ankle boot'\n",
    "}"
   ]
  },
  {
   "cell_type": "code",
   "execution_count": 8,
   "metadata": {},
   "outputs": [],
   "source": [
    "for label in labels:\n",
    "    index = label.item()\n",
    "    #print(CLASSES[index])"
   ]
  },
  {
   "cell_type": "code",
   "execution_count": 9,
   "metadata": {},
   "outputs": [
    {
     "data": {
      "image/png": "[encoded data removed]",
      "text/plain": [
       "<Figure size 432x288 with 1 Axes>"
      ]
     },
     "metadata": {
      "needs_background": "light"
     },
     "output_type": "display_data"
    }
   ],
   "source": [
    "#개별 이미지 확인하기\n",
    "idx = 1\n",
    "item_img = images[idx]\n",
    "item_npimg = item_img.squeeze().numpy()\n",
    "plt.title(CLASSES[labels[idx].item()])\n",
    "plt.imshow(item_npimg, cmap= 'gray')\n",
    "plt.show()"
   ]
  },
  {
   "cell_type": "markdown",
   "metadata": {},
   "source": [
    "### 인공 신경망으로 패션 아이템 분류하기"
   ]
  },
  {
   "cell_type": "code",
   "execution_count": 10,
   "metadata": {},
   "outputs": [],
   "source": [
    "import torch\n",
    "import torch.nn as nn\n",
    "import torch.optim as optim\n",
    "import torch.nn.functional as F\n",
    "from torchvision import transforms, datasets"
   ]
  },
  {
   "cell_type": "code",
   "execution_count": 11,
   "metadata": {},
   "outputs": [],
   "source": [
    "USE_CUDA = torch.cuda.is_available()\n",
    "DEVICE = torch.device(\"cuda\" if USE_CUDA else \"cpu\")"
   ]
  },
  {
   "cell_type": "code",
   "execution_count": 12,
   "metadata": {},
   "outputs": [],
   "source": [
    "EPOCHS = 30\n",
    "BATCH_SIZE = 64"
   ]
  },
  {
   "cell_type": "code",
   "execution_count": 13,
   "metadata": {},
   "outputs": [],
   "source": [
    "class Net(nn.Module):\n",
    "    def __init__(self):\n",
    "        super(Net, self).__init__()\n",
    "        self.fc1 = nn.Linear(784, 256)\n",
    "        self.fc2 = nn.Linear(256, 128)\n",
    "        self.fc3 = nn.Linear(128, 10)\n",
    "        \n",
    "    def forward(self, x):\n",
    "        x = x.view(-1, 784)\n",
    "        x = F.relu(self.fc1(x))\n",
    "        x = F.relu(self.fc2(x))\n",
    "        x = self.fc3(x)\n",
    "        return x"
   ]
  },
  {
   "cell_type": "code",
   "execution_count": 14,
   "metadata": {},
   "outputs": [],
   "source": [
    "model = Net().to(DEVICE)\n",
    "optimizer  = optim.SGD(model.parameters(), lr = 0.01)"
   ]
  },
  {
   "cell_type": "code",
   "execution_count": 15,
   "metadata": {},
   "outputs": [],
   "source": [
    "## train 함수에 model, 학습할 데이터, 최적화를 담당할 optimizer\n",
    "def train(model, train_loader, optimizer):\n",
    "    model.train() #모델을 학습모드로 바꾸기\n",
    "    for batch_idx, (data, target) in enumerate(train_loader):\n",
    "        data, target = data.to(DEVICE), target.to(DEVICE)\n",
    "        optimizer.zero_grad()#반복때마다 기울기 새로 계산 \n",
    "        output = model(data)\n",
    "        loss = F.cross_entropy(output, target)\n",
    "        loss.backward()\n",
    "        optimizer.step()"
   ]
  },
  {
   "cell_type": "code",
   "execution_count": 16,
   "metadata": {},
   "outputs": [],
   "source": [
    "def evaluate(model, test_loader):\n",
    "    model.eval()\n",
    "    test_loss = 0\n",
    "    correct = 0\n",
    "    with torch.no_grad():\n",
    "        for data, target in test_loader:\n",
    "            data, target  = data.to(DEVICE), target.to(DEVICE)\n",
    "            output = model(data)\n",
    "            \n",
    "            #모든 오차 더하기\n",
    "            test_loss += F.cross_entropy(output, target, reduction='sum').item()\n",
    "            \n",
    "            #가장 큰 값을 가진 클래스가 모델의 예측이다.\n",
    "            #예측과 정답을 비교하여 일치할 경우 correct에 1을 더함\n",
    "            pred = output.max(1, keepdim= True)[1]\n",
    "            correct += pred.eq(target.view_as(pred)).sum().item()\n",
    "            \n",
    "    test_loss /= len(test_loader.dataset)\n",
    "    test_accuracy = 100. * correct/len(test_loader.dataset)\n",
    "    return test_loss, test_accuracy"
   ]
  },
  {
   "cell_type": "code",
   "execution_count": 17,
   "metadata": {},
   "outputs": [
    {
     "name": "stdout",
     "output_type": "stream",
     "text": [
      "[1] Test Loss: 0.5612, Accuracy: 80.24%\n",
      "[2] Test Loss: 0.4877, Accuracy: 82.44%\n",
      "[3] Test Loss: 0.4510, Accuracy: 83.83%\n",
      "[4] Test Loss: 0.4264, Accuracy: 84.74%\n",
      "[5] Test Loss: 0.4077, Accuracy: 85.27%\n",
      "[6] Test Loss: 0.3935, Accuracy: 86.00%\n",
      "[7] Test Loss: 0.3836, Accuracy: 86.21%\n",
      "[8] Test Loss: 0.3750, Accuracy: 86.53%\n",
      "[9] Test Loss: 0.3673, Accuracy: 86.97%\n",
      "[10] Test Loss: 0.3623, Accuracy: 87.09%\n",
      "[11] Test Loss: 0.3567, Accuracy: 87.25%\n",
      "[12] Test Loss: 0.3533, Accuracy: 87.39%\n",
      "[13] Test Loss: 0.3495, Accuracy: 87.60%\n",
      "[14] Test Loss: 0.3465, Accuracy: 87.79%\n",
      "[15] Test Loss: 0.3434, Accuracy: 87.86%\n",
      "[16] Test Loss: 0.3420, Accuracy: 87.98%\n",
      "[17] Test Loss: 0.3417, Accuracy: 87.95%\n",
      "[18] Test Loss: 0.3386, Accuracy: 88.14%\n",
      "[19] Test Loss: 0.3389, Accuracy: 88.15%\n",
      "[20] Test Loss: 0.3359, Accuracy: 88.20%\n",
      "[21] Test Loss: 0.3318, Accuracy: 88.56%\n",
      "[22] Test Loss: 0.3332, Accuracy: 88.64%\n",
      "[23] Test Loss: 0.3302, Accuracy: 88.66%\n",
      "[24] Test Loss: 0.3324, Accuracy: 88.65%\n",
      "[25] Test Loss: 0.3324, Accuracy: 88.61%\n",
      "[26] Test Loss: 0.3308, Accuracy: 88.71%\n",
      "[27] Test Loss: 0.3323, Accuracy: 88.68%\n",
      "[28] Test Loss: 0.3338, Accuracy: 88.63%\n",
      "[29] Test Loss: 0.3358, Accuracy: 88.80%\n",
      "[30] Test Loss: 0.3396, Accuracy: 88.59%\n"
     ]
    }
   ],
   "source": [
    "for epoch in range(1, EPOCHS+1):\n",
    "    train(model, train_loader, optimizer)\n",
    "    test_loss, test_accuracy = evaluate(model, test_loader)\n",
    "    \n",
    "    print(\"[{}] Test Loss: {:.4f}, Accuracy: {:.2f}%\" .format(epoch, test_loss, test_accuracy))"
   ]
  },
  {
   "cell_type": "markdown",
   "metadata": {},
   "source": [
    "### 과적합, 과소적합 막기 위한 방법\n",
    "- 조기종료\n",
    "- data augmentation\n",
    "- dropout"
   ]
  },
  {
   "cell_type": "code",
   "execution_count": 23,
   "metadata": {},
   "outputs": [
    {
     "name": "stdout",
     "output_type": "stream",
     "text": [
      "Downloading http://yann.lecun.com/exdb/mnist/train-images-idx3-ubyte.gz to ./.data\\MNIST\\raw\\train-images-idx3-ubyte.gz\n"
     ]
    },
    {
     "data": {
      "application/vnd.jupyter.widget-view+json": {
       "model_id": "d721b0d181564de594cab4d02f545a70",
       "version_major": 2,
       "version_minor": 0
      },
      "text/plain": [
       "HBox(children=(HTML(value=''), FloatProgress(value=1.0, bar_style='info', layout=Layout(width='20px'), max=1.0…"
      ]
     },
     "metadata": {},
     "output_type": "display_data"
    },
    {
     "name": "stdout",
     "output_type": "stream",
     "text": [
      "Extracting ./.data\\MNIST\\raw\\train-images-idx3-ubyte.gz to ./.data\\MNIST\\raw\n",
      "Downloading http://yann.lecun.com/exdb/mnist/train-labels-idx1-ubyte.gz to ./.data\\MNIST\\raw\\train-labels-idx1-ubyte.gz\n"
     ]
    },
    {
     "data": {
      "application/vnd.jupyter.widget-view+json": {
       "model_id": "4e0a39fed1fe41f0b1f71819129e25e1",
       "version_major": 2,
       "version_minor": 0
      },
      "text/plain": [
       "HBox(children=(HTML(value=''), FloatProgress(value=1.0, bar_style='info', layout=Layout(width='20px'), max=1.0…"
      ]
     },
     "metadata": {},
     "output_type": "display_data"
    },
    {
     "name": "stdout",
     "output_type": "stream",
     "text": [
      "Extracting ./.data\\MNIST\\raw\\train-labels-idx1-ubyte.gz to ./.data\\MNIST\\raw\n",
      "Downloading http://yann.lecun.com/exdb/mnist/t10k-images-idx3-ubyte.gz to ./.data\\MNIST\\raw\\t10k-images-idx3-ubyte.gz\n",
      "\n"
     ]
    },
    {
     "data": {
      "application/vnd.jupyter.widget-view+json": {
       "model_id": "97329565c2d146afa6ce31f6822c2ab3",
       "version_major": 2,
       "version_minor": 0
      },
      "text/plain": [
       "HBox(children=(HTML(value=''), FloatProgress(value=1.0, bar_style='info', layout=Layout(width='20px'), max=1.0…"
      ]
     },
     "metadata": {},
     "output_type": "display_data"
    },
    {
     "name": "stdout",
     "output_type": "stream",
     "text": [
      "Extracting ./.data\\MNIST\\raw\\t10k-images-idx3-ubyte.gz to ./.data\\MNIST\\raw\n",
      "Downloading http://yann.lecun.com/exdb/mnist/t10k-labels-idx1-ubyte.gz to ./.data\\MNIST\\raw\\t10k-labels-idx1-ubyte.gz\n"
     ]
    },
    {
     "data": {
      "application/vnd.jupyter.widget-view+json": {
       "model_id": "81ea870bd3f643a586fd384d3dc444cd",
       "version_major": 2,
       "version_minor": 0
      },
      "text/plain": [
       "HBox(children=(HTML(value=''), FloatProgress(value=1.0, bar_style='info', layout=Layout(width='20px'), max=1.0…"
      ]
     },
     "metadata": {},
     "output_type": "display_data"
    },
    {
     "name": "stdout",
     "output_type": "stream",
     "text": [
      "Extracting ./.data\\MNIST\\raw\\t10k-labels-idx1-ubyte.gz to ./.data\\MNIST\\raw\n",
      "Processing...\n",
      "Done!\n"
     ]
    },
    {
     "name": "stderr",
     "output_type": "stream",
     "text": [
      "..\\torch\\csrc\\utils\\tensor_numpy.cpp:141: UserWarning: The given NumPy array is not writeable, and PyTorch does not support non-writeable tensors. This means you can write to the underlying (supposedly non-writeable) NumPy array using the tensor. You may want to copy the array to protect its data or make it writeable before converting it to a tensor. This type of warning will be suppressed for the rest of this program.\n"
     ]
    }
   ],
   "source": [
    "train_loader = torch.utils.data.DataLoader(\n",
    "    datasets.MNIST('./.data',\n",
    "                  train = True,\n",
    "                  download = True,\n",
    "                  transform = transforms.Compose([\n",
    "                      transforms.RandomHorizontalFlip(),\n",
    "                      transforms.ToTensor(),\n",
    "                      transforms.Normalize((0.1307,),(0.3081,))\n",
    "                  ])),\n",
    "    batch_size = BATCH_SIZE, shuffle = True)\n",
    "\n",
    "test_loader = torch.utils.data.DataLoader(\n",
    "    datasets.MNIST('./.data',\n",
    "                  train = False,\n",
    "                  transform = transforms.Compose([\n",
    "                      transforms.ToTensor(),\n",
    "                      transforms.Normalize((0.1307,),(0.3081,))\n",
    "                  ])),\n",
    "    batch_size = BATCH_SIZE, shuffle = True)"
   ]
  },
  {
   "cell_type": "code",
   "execution_count": 24,
   "metadata": {},
   "outputs": [],
   "source": [
    "## dropout\n",
    "### nn.Dropout & F.dropout: 클래스를 쓰느냐 함수를 쓰느냐 차이\n",
    "\n",
    "class Net(nn.Module):\n",
    "    def __init__(self, dropout_p = 0.2):\n",
    "        super(Net, self).__init__()\n",
    "        self.fc1 = nn.Linear(784, 256)\n",
    "        self.fc2 = nn.Linear(256, 128)\n",
    "        self.fc3 = nn.Linear(128, 10)\n",
    "        self.dropout_p = dropout_p\n",
    "        \n",
    "    def forward(self, x):\n",
    "        x = x.view(-1, 784)\n",
    "        x = F.relu(self.fc1(x))\n",
    "        \n",
    "        # 드롭아웃 추가\n",
    "        x = F.dropout(x, training = self.training, p = self.dropout_p)\n",
    "        x = F.relu(self.fc2(x))\n",
    "        \n",
    "        # 드롭아웃 추가\n",
    "        x = F.dropout(x, training = self.training, p = self.dropout_p)\n",
    "        x = self.fc3(x)\n",
    "        return x"
   ]
  },
  {
   "cell_type": "code",
   "execution_count": 25,
   "metadata": {},
   "outputs": [],
   "source": [
    "model = Net(dropout_p = 0.2).to(DEVICE)\n",
    "optimizer = optim.SGD(model.parameters(), lr = 0.01)"
   ]
  },
  {
   "cell_type": "code",
   "execution_count": 26,
   "metadata": {},
   "outputs": [
    {
     "name": "stdout",
     "output_type": "stream",
     "text": [
      "[1] Test Loss: 0.5497, Accuracy: 82.03%\n",
      "[2] Test Loss: 0.4273, Accuracy: 86.25%\n",
      "[3] Test Loss: 0.3561, Accuracy: 88.84%\n",
      "[4] Test Loss: 0.3003, Accuracy: 90.77%\n",
      "[5] Test Loss: 0.2622, Accuracy: 91.86%\n",
      "[6] Test Loss: 0.2385, Accuracy: 92.59%\n",
      "[7] Test Loss: 0.2106, Accuracy: 93.51%\n",
      "[8] Test Loss: 0.1978, Accuracy: 93.87%\n",
      "[9] Test Loss: 0.1851, Accuracy: 94.29%\n",
      "[10] Test Loss: 0.1698, Accuracy: 94.68%\n",
      "[11] Test Loss: 0.1645, Accuracy: 95.01%\n",
      "[12] Test Loss: 0.1573, Accuracy: 95.18%\n",
      "[13] Test Loss: 0.1508, Accuracy: 95.42%\n",
      "[14] Test Loss: 0.1431, Accuracy: 95.57%\n",
      "[15] Test Loss: 0.1423, Accuracy: 95.65%\n",
      "[16] Test Loss: 0.1362, Accuracy: 95.81%\n",
      "[17] Test Loss: 0.1293, Accuracy: 96.13%\n",
      "[18] Test Loss: 0.1287, Accuracy: 96.08%\n",
      "[19] Test Loss: 0.1225, Accuracy: 96.35%\n",
      "[20] Test Loss: 0.1196, Accuracy: 96.27%\n",
      "[21] Test Loss: 0.1192, Accuracy: 96.35%\n",
      "[22] Test Loss: 0.1164, Accuracy: 96.36%\n",
      "[23] Test Loss: 0.1117, Accuracy: 96.55%\n",
      "[24] Test Loss: 0.1141, Accuracy: 96.37%\n",
      "[25] Test Loss: 0.1086, Accuracy: 96.56%\n",
      "[26] Test Loss: 0.1075, Accuracy: 96.71%\n",
      "[27] Test Loss: 0.1066, Accuracy: 96.71%\n",
      "[28] Test Loss: 0.1065, Accuracy: 96.67%\n",
      "[29] Test Loss: 0.1018, Accuracy: 96.86%\n",
      "[30] Test Loss: 0.1017, Accuracy: 96.83%\n"
     ]
    }
   ],
   "source": [
    "for epoch in range(1, EPOCHS+1):\n",
    "    train(model, train_loader, optimizer)\n",
    "    test_loss, test_accuracy = evaluate(model, test_loader)\n",
    "    \n",
    "    print(\"[{}] Test Loss: {:.4f}, Accuracy: {:.2f}%\" .format(epoch, test_loss, test_accuracy))"
   ]
  },
  {
   "cell_type": "code",
   "execution_count": null,
   "metadata": {},
   "outputs": [],
   "source": []
  }
 ],
 "metadata": {
  "kernelspec": {
   "display_name": "Python 3",
   "language": "python",
   "name": "python3"
  },
  "language_info": {
   "codemirror_mode": {
    "name": "ipython",
    "version": 3
   },
   "file_extension": ".py",
   "mimetype": "text/x-python",
   "name": "python",
   "nbconvert_exporter": "python",
   "pygments_lexer": "ipython3",
   "version": "3.7.6"
  }
 },
 "nbformat": 4,
 "nbformat_minor": 4
}
