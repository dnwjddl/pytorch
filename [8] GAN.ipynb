{
 "cells": [
  {
   "cell_type": "markdown",
   "metadata": {},
   "source": [
    "## GAN\n",
    "**생성**하는 모델, **적대적**으로 학습, **인공신경망** 모델"
   ]
  },
  {
   "cell_type": "code",
   "execution_count": 1,
   "metadata": {},
   "outputs": [],
   "source": [
    "import os\n",
    "import torch\n",
    "import torchvision\n",
    "import torch.nn as nn\n",
    "import torch.optim as optim\n",
    "from torchvision import transforms, datasets\n",
    "from torchvision.utils import save_image\n",
    "import matplotlib.pyplot as plt"
   ]
  },
  {
   "cell_type": "code",
   "execution_count": 2,
   "metadata": {},
   "outputs": [],
   "source": [
    "#hyper-parameters\n",
    "EPOCHS = 100\n",
    "BATCH_SIZE = 100\n",
    "USE_CUDA = torch.cuda.is_available()\n",
    "DEVICE = torch.device(\"cuda\" if USE_CUDA else \"cpu\")"
   ]
  },
  {
   "cell_type": "code",
   "execution_count": 3,
   "metadata": {
    "scrolled": true
   },
   "outputs": [],
   "source": [
    "#fashion MNIST 데이터셋\n",
    "trainset = datasets.FashionMNIST(\"./.data\",\n",
    "                                train = True,\n",
    "                                download = True,\n",
    "                                transform = transforms.Compose([\n",
    "                                    transforms.ToTensor(),\n",
    "                                    transforms.Normalize((0.5,),(0.5,))\n",
    "                                ]))\n",
    "train_loader = torch.utils.data.DataLoader(\n",
    "                dataset = trainset,\n",
    "                batch_size = BATCH_SIZE,\n",
    "                shuffle = True\n",
    ")\n",
    "\n",
    "# train_loader는 반복문에서 사용할 수 있으며, 반복 시 학습 이미지와 레이블을(이미지, 레이블) 튜플 형태로 반환"
   ]
  },
  {
   "cell_type": "code",
   "execution_count": 4,
   "metadata": {},
   "outputs": [],
   "source": [
    "##생성자##\n",
    "\n",
    "G = nn.Sequential(\n",
    "    nn.Linear(64, 256),\n",
    "    nn.ReLU(),\n",
    "    nn.Linear(256, 256),\n",
    "    nn.ReLU(),\n",
    "    nn.Linear(256, 784),\n",
    "    nn.Tanh()) \n",
    "\n",
    "# 정규 분포에서 추출한 무작위 텐서(z)\n",
    "# Tanh(): -1 에서 1 사이로 압축하는 역할"
   ]
  },
  {
   "cell_type": "code",
   "execution_count": 5,
   "metadata": {},
   "outputs": [],
   "source": [
    "## 판별자\n",
    "\n",
    "D = nn.Sequential(\n",
    "    nn.Linear(784, 256),\n",
    "    nn.LeakyReLU(),\n",
    "    nn.Linear(256, 256),\n",
    "    nn.LeakyReLU(0.2),\n",
    "    nn.Linear(256,1),\n",
    "    nn.Sigmoid())\n",
    "\n",
    "# sigmoid(): 0~1사이의 값을 가짐"
   ]
  },
  {
   "cell_type": "code",
   "execution_count": 6,
   "metadata": {},
   "outputs": [],
   "source": [
    "# 모델의 가중치를 지정한 장치로 보내기\n",
    "D = D.to(DEVICE)\n",
    "G = G.to(DEVICE)"
   ]
  },
  {
   "cell_type": "code",
   "execution_count": 7,
   "metadata": {},
   "outputs": [],
   "source": [
    "#Binary cross entropy 오차함수 & 생성자와 판별자를 최적화할 Adam 모듈\n",
    "criterion = nn.BCELoss()\n",
    "d_optimizer = optim.Adam(D.parameters(), lr = 0.0002)\n",
    "g_optimizer = optim.Adam(G.parameters(), lr = 0.0002)"
   ]
  },
  {
   "cell_type": "code",
   "execution_count": 8,
   "metadata": {},
   "outputs": [],
   "source": [
    "# 판별자가 진짜를 진짜로 인식한 정확도 D(x)\n",
    "# 가짜를 진짜로 인식한 정확도 D(G(z))"
   ]
  },
  {
   "cell_type": "code",
   "execution_count": 9,
   "metadata": {},
   "outputs": [
    {
     "name": "stdout",
     "output_type": "stream",
     "text": [
      "이폭 [0/100] d_loss:0.0514 g_loss:4.7764 D(x):0.97 D(G(z)):0.01\n",
      "이폭 [1/100] d_loss:0.0187 g_loss:6.4155 D(x):0.99 D(G(z)):0.01\n",
      "이폭 [2/100] d_loss:0.0233 g_loss:5.2801 D(x):0.99 D(G(z)):0.01\n",
      "이폭 [3/100] d_loss:0.0785 g_loss:6.0816 D(x):0.98 D(G(z)):0.04\n",
      "이폭 [4/100] d_loss:0.0329 g_loss:5.8901 D(x):0.98 D(G(z)):0.01\n",
      "이폭 [5/100] d_loss:0.1031 g_loss:6.4877 D(x):0.97 D(G(z)):0.02\n",
      "이폭 [6/100] d_loss:0.0774 g_loss:5.7627 D(x):0.98 D(G(z)):0.04\n",
      "이폭 [7/100] d_loss:0.1270 g_loss:3.9920 D(x):0.98 D(G(z)):0.08\n",
      "이폭 [8/100] d_loss:0.5431 g_loss:3.1984 D(x):0.89 D(G(z)):0.09\n",
      "이폭 [9/100] d_loss:0.0873 g_loss:5.0862 D(x):0.96 D(G(z)):0.02\n",
      "이폭 [10/100] d_loss:0.2256 g_loss:3.8360 D(x):0.94 D(G(z)):0.09\n",
      "이폭 [11/100] d_loss:0.3995 g_loss:2.9484 D(x):0.91 D(G(z)):0.07\n",
      "이폭 [12/100] d_loss:0.5173 g_loss:2.8338 D(x):0.87 D(G(z)):0.08\n",
      "이폭 [13/100] d_loss:0.4314 g_loss:3.1170 D(x):0.92 D(G(z)):0.15\n",
      "이폭 [14/100] d_loss:0.3808 g_loss:2.1649 D(x):0.92 D(G(z)):0.17\n",
      "이폭 [15/100] d_loss:0.2119 g_loss:3.2866 D(x):0.94 D(G(z)):0.10\n",
      "이폭 [16/100] d_loss:0.4278 g_loss:3.0852 D(x):0.90 D(G(z)):0.08\n",
      "이폭 [17/100] d_loss:0.4180 g_loss:3.0714 D(x):0.91 D(G(z)):0.12\n",
      "이폭 [18/100] d_loss:0.2880 g_loss:3.3589 D(x):0.93 D(G(z)):0.12\n",
      "이폭 [19/100] d_loss:0.4892 g_loss:2.9889 D(x):0.87 D(G(z)):0.11\n",
      "이폭 [20/100] d_loss:0.3159 g_loss:2.7888 D(x):0.94 D(G(z)):0.16\n",
      "이폭 [21/100] d_loss:0.2535 g_loss:2.7721 D(x):0.95 D(G(z)):0.16\n",
      "이폭 [22/100] d_loss:0.3968 g_loss:3.6420 D(x):0.87 D(G(z)):0.07\n",
      "이폭 [23/100] d_loss:0.2179 g_loss:3.2894 D(x):0.95 D(G(z)):0.10\n",
      "이폭 [24/100] d_loss:0.2946 g_loss:3.0404 D(x):0.94 D(G(z)):0.15\n",
      "이폭 [25/100] d_loss:0.6105 g_loss:3.8144 D(x):0.79 D(G(z)):0.07\n",
      "이폭 [26/100] d_loss:0.5031 g_loss:2.4060 D(x):0.91 D(G(z)):0.26\n",
      "이폭 [27/100] d_loss:0.4395 g_loss:2.3454 D(x):0.89 D(G(z)):0.18\n",
      "이폭 [28/100] d_loss:0.4859 g_loss:3.0776 D(x):0.85 D(G(z)):0.08\n",
      "이폭 [29/100] d_loss:0.3292 g_loss:3.0504 D(x):0.87 D(G(z)):0.06\n",
      "이폭 [30/100] d_loss:0.5721 g_loss:2.3858 D(x):0.85 D(G(z)):0.20\n",
      "이폭 [31/100] d_loss:0.4238 g_loss:3.2020 D(x):0.87 D(G(z)):0.13\n",
      "이폭 [32/100] d_loss:0.6256 g_loss:3.0618 D(x):0.83 D(G(z)):0.14\n",
      "이폭 [33/100] d_loss:0.4799 g_loss:2.6934 D(x):0.83 D(G(z)):0.13\n",
      "이폭 [34/100] d_loss:0.5404 g_loss:2.1116 D(x):0.90 D(G(z)):0.26\n",
      "이폭 [35/100] d_loss:0.3736 g_loss:2.7355 D(x):0.88 D(G(z)):0.15\n",
      "이폭 [36/100] d_loss:0.4575 g_loss:2.6296 D(x):0.88 D(G(z)):0.16\n",
      "이폭 [37/100] d_loss:0.8018 g_loss:3.1949 D(x):0.80 D(G(z)):0.18\n",
      "이폭 [38/100] d_loss:0.5288 g_loss:2.8969 D(x):0.83 D(G(z)):0.16\n",
      "이폭 [39/100] d_loss:0.4560 g_loss:2.2344 D(x):0.87 D(G(z)):0.16\n",
      "이폭 [40/100] d_loss:0.5117 g_loss:2.7709 D(x):0.83 D(G(z)):0.12\n",
      "이폭 [41/100] d_loss:0.5428 g_loss:2.3140 D(x):0.80 D(G(z)):0.13\n",
      "이폭 [42/100] d_loss:0.5059 g_loss:2.3456 D(x):0.81 D(G(z)):0.14\n",
      "이폭 [43/100] d_loss:0.6947 g_loss:2.7217 D(x):0.77 D(G(z)):0.14\n",
      "이폭 [44/100] d_loss:0.4457 g_loss:3.2195 D(x):0.85 D(G(z)):0.10\n",
      "이폭 [45/100] d_loss:0.4633 g_loss:2.7725 D(x):0.86 D(G(z)):0.17\n",
      "이폭 [46/100] d_loss:0.5882 g_loss:2.5404 D(x):0.80 D(G(z)):0.14\n",
      "이폭 [47/100] d_loss:0.5533 g_loss:2.6606 D(x):0.84 D(G(z)):0.19\n",
      "이폭 [48/100] d_loss:0.5337 g_loss:2.6169 D(x):0.86 D(G(z)):0.16\n",
      "이폭 [49/100] d_loss:0.6663 g_loss:1.9698 D(x):0.79 D(G(z)):0.21\n",
      "이폭 [50/100] d_loss:0.5507 g_loss:2.6904 D(x):0.84 D(G(z)):0.14\n",
      "이폭 [51/100] d_loss:0.6238 g_loss:2.5892 D(x):0.79 D(G(z)):0.16\n",
      "이폭 [52/100] d_loss:0.5620 g_loss:2.1993 D(x):0.79 D(G(z)):0.16\n",
      "이폭 [53/100] d_loss:0.6263 g_loss:1.9591 D(x):0.80 D(G(z)):0.19\n",
      "이폭 [54/100] d_loss:0.6675 g_loss:3.2422 D(x):0.84 D(G(z)):0.14\n",
      "이폭 [55/100] d_loss:0.7122 g_loss:2.1455 D(x):0.74 D(G(z)):0.16\n",
      "이폭 [56/100] d_loss:0.5436 g_loss:2.2253 D(x):0.88 D(G(z)):0.24\n",
      "이폭 [57/100] d_loss:0.4397 g_loss:2.7926 D(x):0.86 D(G(z)):0.15\n",
      "이폭 [58/100] d_loss:0.7877 g_loss:2.9204 D(x):0.75 D(G(z)):0.15\n",
      "이폭 [59/100] d_loss:0.7165 g_loss:2.7959 D(x):0.74 D(G(z)):0.15\n",
      "이폭 [60/100] d_loss:0.6098 g_loss:2.5115 D(x):0.83 D(G(z)):0.21\n",
      "이폭 [61/100] d_loss:0.6719 g_loss:2.0753 D(x):0.77 D(G(z)):0.21\n",
      "이폭 [62/100] d_loss:0.5729 g_loss:1.8868 D(x):0.84 D(G(z)):0.21\n",
      "이폭 [63/100] d_loss:0.6987 g_loss:2.2251 D(x):0.73 D(G(z)):0.16\n",
      "이폭 [64/100] d_loss:0.5656 g_loss:2.3813 D(x):0.81 D(G(z)):0.18\n",
      "이폭 [65/100] d_loss:0.7442 g_loss:3.1313 D(x):0.72 D(G(z)):0.14\n",
      "이폭 [66/100] d_loss:0.7171 g_loss:1.8322 D(x):0.76 D(G(z)):0.22\n",
      "이폭 [67/100] d_loss:0.6221 g_loss:2.6030 D(x):0.83 D(G(z)):0.23\n",
      "이폭 [68/100] d_loss:0.6391 g_loss:2.4233 D(x):0.79 D(G(z)):0.19\n",
      "이폭 [69/100] d_loss:0.7142 g_loss:2.2855 D(x):0.77 D(G(z)):0.20\n",
      "이폭 [70/100] d_loss:0.5423 g_loss:2.2625 D(x):0.84 D(G(z)):0.22\n",
      "이폭 [71/100] d_loss:0.7590 g_loss:2.1328 D(x):0.87 D(G(z)):0.35\n",
      "이폭 [72/100] d_loss:0.7600 g_loss:1.7365 D(x):0.76 D(G(z)):0.23\n",
      "이폭 [73/100] d_loss:0.6926 g_loss:2.3481 D(x):0.75 D(G(z)):0.22\n",
      "이폭 [74/100] d_loss:0.8126 g_loss:1.5597 D(x):0.75 D(G(z)):0.28\n",
      "이폭 [75/100] d_loss:0.6922 g_loss:1.5080 D(x):0.85 D(G(z)):0.32\n",
      "이폭 [76/100] d_loss:0.7329 g_loss:1.8865 D(x):0.81 D(G(z)):0.28\n",
      "이폭 [77/100] d_loss:0.7848 g_loss:1.6790 D(x):0.77 D(G(z)):0.29\n",
      "이폭 [78/100] d_loss:0.9315 g_loss:1.4284 D(x):0.84 D(G(z)):0.40\n",
      "이폭 [79/100] d_loss:0.6778 g_loss:2.2254 D(x):0.79 D(G(z)):0.21\n",
      "이폭 [80/100] d_loss:0.6883 g_loss:1.9844 D(x):0.82 D(G(z)):0.27\n",
      "이폭 [81/100] d_loss:0.8414 g_loss:1.7465 D(x):0.71 D(G(z)):0.19\n",
      "이폭 [82/100] d_loss:0.8175 g_loss:1.6408 D(x):0.75 D(G(z)):0.26\n",
      "이폭 [83/100] d_loss:0.7750 g_loss:2.2551 D(x):0.74 D(G(z)):0.19\n",
      "이폭 [84/100] d_loss:1.0509 g_loss:2.4185 D(x):0.68 D(G(z)):0.17\n",
      "이폭 [85/100] d_loss:0.6166 g_loss:2.4831 D(x):0.78 D(G(z)):0.16\n",
      "이폭 [86/100] d_loss:0.7601 g_loss:1.9252 D(x):0.73 D(G(z)):0.20\n",
      "이폭 [87/100] d_loss:0.8647 g_loss:2.2223 D(x):0.71 D(G(z)):0.22\n",
      "이폭 [88/100] d_loss:0.8761 g_loss:1.9692 D(x):0.71 D(G(z)):0.19\n",
      "이폭 [89/100] d_loss:0.7611 g_loss:2.2389 D(x):0.69 D(G(z)):0.16\n",
      "이폭 [90/100] d_loss:0.9899 g_loss:2.1070 D(x):0.74 D(G(z)):0.27\n",
      "이폭 [91/100] d_loss:0.9683 g_loss:1.9486 D(x):0.70 D(G(z)):0.24\n",
      "이폭 [92/100] d_loss:0.8697 g_loss:1.7349 D(x):0.73 D(G(z)):0.27\n",
      "이폭 [93/100] d_loss:0.8696 g_loss:2.2222 D(x):0.71 D(G(z)):0.20\n",
      "이폭 [94/100] d_loss:0.7114 g_loss:2.1443 D(x):0.75 D(G(z)):0.21\n",
      "이폭 [95/100] d_loss:0.7746 g_loss:1.8405 D(x):0.75 D(G(z)):0.26\n",
      "이폭 [96/100] d_loss:0.6525 g_loss:2.0131 D(x):0.84 D(G(z)):0.27\n",
      "이폭 [97/100] d_loss:0.8219 g_loss:1.6449 D(x):0.69 D(G(z)):0.22\n",
      "이폭 [98/100] d_loss:0.8491 g_loss:1.6495 D(x):0.73 D(G(z)):0.25\n",
      "이폭 [99/100] d_loss:0.6308 g_loss:2.1983 D(x):0.83 D(G(z)):0.28\n"
     ]
    }
   ],
   "source": [
    "total_step = len(train_loader)\n",
    "for epoch in range(EPOCHS):\n",
    "    for i, (images,_) in enumerate(train_loader):\n",
    "        images = images.reshape(BATCH_SIZE, -1).to(DEVICE)\n",
    "        \n",
    "        #'진짜', '가짜' 레이블 생성\n",
    "        real_labels = torch.ones(BATCH_SIZE, 1).to(DEVICE)\n",
    "        fake_labels = torch.zeros(BATCH_SIZE, 1).to(DEVICE)\n",
    "        \n",
    "        #판별자가 진짜 이미지를 진짜로 인식하는 오차 계산\n",
    "        outputs = D(images)\n",
    "        d_loss_real = criterion(outputs, real_labels)\n",
    "        real_score = outputs\n",
    "        \n",
    "        ##GENERATOR##\n",
    "        #무작위 텐서로 가짜 이미지 생성\n",
    "        z = torch.randn(BATCH_SIZE, 64).to(DEVICE)\n",
    "        fake_images = G(z)\n",
    "\n",
    "        #판별자가 가짜 이미지를 가짜로 인식하는 오차 계산\n",
    "        outputs = D(fake_images)\n",
    "        d_loss_fake = criterion(outputs, fake_labels)\n",
    "        fake_score = outputs\n",
    "        \n",
    "        #진짜와 가짜 이미지를 갖고 낸 오차를 더해서 판별자의 오차 계산\n",
    "        d_loss = d_loss_real + d_loss_fake\n",
    "        \n",
    "        #역전파 알고리즘으로 판별자 모델의 학습을 진행\n",
    "        d_optimizer.zero_grad()\n",
    "        g_optimizer.zero_grad()\n",
    "        d_loss.backward()\n",
    "        d_optimizer.step()\n",
    "        \n",
    "        #생성자가 판별자를 속였는지에 대한 오차 계산\n",
    "        fake_images = G(z)\n",
    "        outputs = D(fake_images)\n",
    "        g_loss = criterion(outputs, real_labels)\n",
    "        \n",
    "        #역전파 알고리즘으로 생성자 모델의 학습을 진행\n",
    "        d_optimizer.zero_grad()\n",
    "        g_optimizer.zero_grad()\n",
    "        g_loss.backward()\n",
    "        g_optimizer.step()\n",
    "        \n",
    "    #학습 진행 알아보기\n",
    "    print(\"이폭 [{}/{}] d_loss:{:.4f} g_loss:{:.4f} D(x):{:.2f} D(G(z)):{:.2f}\".format(epoch, EPOCHS, \n",
    "                                                                        d_loss.item(), g_loss.item(), \n",
    "                                                                        real_score.mean().item(), fake_score.mean().item()))"
   ]
  },
  {
   "cell_type": "markdown",
   "metadata": {},
   "source": [
    "50%로 가까워질수록 둘다 잘 학습된 것임"
   ]
  },
  {
   "cell_type": "code",
   "execution_count": 10,
   "metadata": {},
   "outputs": [
    {
     "ename": "NameError",
     "evalue": "name 'fake_images_img' is not defined",
     "output_type": "error",
     "traceback": [
      "\u001b[1;31m---------------------------------------------------------------------------\u001b[0m",
      "\u001b[1;31mNameError\u001b[0m                                 Traceback (most recent call last)",
      "\u001b[1;32m<ipython-input-10-714c485e1c62>\u001b[0m in \u001b[0;36m<module>\u001b[1;34m\u001b[0m\n\u001b[0;32m      3\u001b[0m \u001b[0mfake_images\u001b[0m \u001b[1;33m=\u001b[0m \u001b[0mG\u001b[0m\u001b[1;33m(\u001b[0m\u001b[0mz\u001b[0m\u001b[1;33m)\u001b[0m\u001b[1;33m\u001b[0m\u001b[1;33m\u001b[0m\u001b[0m\n\u001b[0;32m      4\u001b[0m \u001b[1;32mfor\u001b[0m \u001b[0mi\u001b[0m \u001b[1;32min\u001b[0m \u001b[0mrange\u001b[0m\u001b[1;33m(\u001b[0m\u001b[1;36m10\u001b[0m\u001b[1;33m)\u001b[0m\u001b[1;33m:\u001b[0m\u001b[1;33m\u001b[0m\u001b[1;33m\u001b[0m\u001b[0m\n\u001b[1;32m----> 5\u001b[1;33m     \u001b[0mprint\u001b[0m\u001b[1;33m(\u001b[0m\u001b[0mtype\u001b[0m\u001b[1;33m(\u001b[0m\u001b[0mfake_images_img\u001b[0m\u001b[1;33m)\u001b[0m\u001b[1;33m)\u001b[0m\u001b[1;33m\u001b[0m\u001b[1;33m\u001b[0m\u001b[0m\n\u001b[0m\u001b[0;32m      6\u001b[0m     \u001b[0mprint\u001b[0m\u001b[1;33m(\u001b[0m\u001b[0mtype\u001b[0m\u001b[1;33m(\u001b[0m\u001b[0mfake_images_img\u001b[0m\u001b[1;33m.\u001b[0m\u001b[0mdata\u001b[0m\u001b[1;33m)\u001b[0m\u001b[1;33m)\u001b[0m\u001b[1;33m\u001b[0m\u001b[1;33m\u001b[0m\u001b[0m\n\u001b[0;32m      7\u001b[0m     \u001b[0mfake_images_img\u001b[0m \u001b[1;33m=\u001b[0m \u001b[0mnp\u001b[0m\u001b[1;33m.\u001b[0m\u001b[0mreshape\u001b[0m\u001b[1;33m(\u001b[0m\u001b[0mfake_images\u001b[0m\u001b[1;33m.\u001b[0m\u001b[0mdata\u001b[0m\u001b[1;33m.\u001b[0m\u001b[0mcpu\u001b[0m\u001b[1;33m(\u001b[0m\u001b[1;33m)\u001b[0m\u001b[1;33m.\u001b[0m\u001b[0mnumpy\u001b[0m\u001b[1;33m(\u001b[0m\u001b[1;33m)\u001b[0m\u001b[1;33m[\u001b[0m\u001b[0mi\u001b[0m\u001b[1;33m]\u001b[0m\u001b[1;33m,\u001b[0m\u001b[1;33m(\u001b[0m\u001b[1;36m28\u001b[0m\u001b[1;33m,\u001b[0m\u001b[1;36m28\u001b[0m\u001b[1;33m)\u001b[0m\u001b[1;33m)\u001b[0m\u001b[1;33m\u001b[0m\u001b[1;33m\u001b[0m\u001b[0m\n",
      "\u001b[1;31mNameError\u001b[0m: name 'fake_images_img' is not defined"
     ]
    }
   ],
   "source": [
    "import numpy as np\n",
    "z = torch.randn(BATCH_SIZE, 64).to(DEVICE)\n",
    "fake_images = G(z)\n",
    "for i in range(10):\n",
    "    print(type(fake_images_img))\n",
    "    print(type(fake_images_img.data))\n",
    "    fake_images_img = np.reshape(fake_images.data.cpu().numpy()[i],(28,28))\n",
    "    plt.imshow(fake_images_img, cmap = 'gray')\n",
    "    plt.show()"
   ]
  },
  {
   "cell_type": "markdown",
   "metadata": {},
   "source": [
    "# cGAN\n",
    "위의 모델은 이미지를 무작위로 생성하는 것임  \n",
    "출력할 아이템의 종류를 사용자로 부터 입력을 받아 그에 해당하는 이미지를 생성하는 모델 '**조건부 GAN**', '**cGAN**' (생성제어)  \n",
    "cGAN은 생성자와 판별자에 **레이블의 정보**가 같이 들어간다"
   ]
  },
  {
   "cell_type": "code",
   "execution_count": null,
   "metadata": {},
   "outputs": [],
   "source": [
    "import os\n",
    "import torch\n",
    "import torchvision\n",
    "import torch.nn as nn\n",
    "import torch.optim as optim\n",
    "from torchvision import transforms, datasets\n",
    "from torchvision.utils import save_image\n",
    "import matplotlib.pyplot as plt\n",
    "import numpy as np"
   ]
  },
  {
   "cell_type": "code",
   "execution_count": null,
   "metadata": {},
   "outputs": [],
   "source": [
    "# 하이퍼파라미터\n",
    "EPOCHS = 100\n",
    "BATCH_SIZE = 100\n",
    "USE_CUDA = torch.cuda.is_available()\n",
    "DEVICE = torch.device(\"cuda\" if USE_CUDA else \"cpu\")"
   ]
  },
  {
   "cell_type": "code",
   "execution_count": null,
   "metadata": {},
   "outputs": [],
   "source": [
    "trainset = datasets.FashionMNIST(\n",
    "    './.data',\n",
    "    train=True,\n",
    "    download=True,\n",
    "    transform=transforms.Compose([\n",
    "       transforms.ToTensor(),\n",
    "       transforms.Normalize((0.5,), (0.5,))]))"
   ]
  },
  {
   "cell_type": "code",
   "execution_count": null,
   "metadata": {},
   "outputs": [],
   "source": [
    "train_loader = torch.utils.data.DataLoader(\n",
    "    dataset     = trainset,\n",
    "    batch_size  = BATCH_SIZE,\n",
    "    shuffle     = True\n",
    ")"
   ]
  },
  {
   "cell_type": "markdown",
   "metadata": {},
   "source": [
    "- 생성자에 입력할때 100 + 10(class의 종류)\n",
    "- embed() 함수는 배치 x1 크기의 레이블 텐서를 받아 배치 x10 의 연속적인 텐서로 변환\n",
    "    - 똑같은 레이블은 항상 똑같은 텐서를 만들기 때문에 단순히 연속적인 텐서를 레이블 값에 단순 대입(mapping)한다고 생각하면 됨"
   ]
  },
  {
   "cell_type": "code",
   "execution_count": null,
   "metadata": {},
   "outputs": [],
   "source": [
    "# 생성자 (Generator)\n",
    "class Generator(nn.Module):\n",
    "    def __init__(self):\n",
    "        super().__init__()\n",
    "        \n",
    "        self.embed = nn.Embedding(10, 10)\n",
    "        \n",
    "        self.model = nn.Sequential(\n",
    "            nn.Linear(110, 256),\n",
    "            nn.LeakyReLU(0.2, inplace=True),\n",
    "            nn.Linear(256, 512),\n",
    "            nn.LeakyReLU(0.2, inplace=True),\n",
    "            nn.Linear(512, 1024),\n",
    "            nn.LeakyReLU(0.2, inplace=True),\n",
    "            nn.Linear(1024, 784),\n",
    "            nn.Tanh()\n",
    "        )\n",
    "    \n",
    "    def forward(self, z, labels):\n",
    "        c = self.embed(labels)\n",
    "        x = torch.cat([z, c], 1)\n",
    "        return self.model(x)"
   ]
  },
  {
   "cell_type": "code",
   "execution_count": null,
   "metadata": {},
   "outputs": [],
   "source": [
    "# 판별자 (Discriminator)\n",
    "class Discriminator(nn.Module):\n",
    "    def __init__(self):\n",
    "        super().__init__()\n",
    "        \n",
    "        self.embed = nn.Embedding(10, 10)\n",
    "        \n",
    "        self.model = nn.Sequential(\n",
    "            nn.Linear(794, 1024),\n",
    "            nn.LeakyReLU(0.2, inplace=True),\n",
    "            nn.Dropout(0.3),\n",
    "            nn.Linear(1024, 512),\n",
    "            nn.LeakyReLU(0.2, inplace=True),\n",
    "            nn.Dropout(0.3),\n",
    "            nn.Linear(512, 256),\n",
    "            nn.LeakyReLU(0.2, inplace=True),\n",
    "            nn.Dropout(0.3),\n",
    "            nn.Linear(256, 1),\n",
    "            nn.Sigmoid()\n",
    "        )\n",
    "    \n",
    "    def forward(self, x, labels):\n",
    "        c = self.embed(labels)\n",
    "        x = torch.cat([x, c], 1)\n",
    "        return self.model(x)"
   ]
  },
  {
   "cell_type": "code",
   "execution_count": null,
   "metadata": {},
   "outputs": [],
   "source": [
    "D = Discriminator().to(DEVICE)\n",
    "G = Generator().to(DEVICE)"
   ]
  },
  {
   "cell_type": "code",
   "execution_count": null,
   "metadata": {},
   "outputs": [],
   "source": [
    "#Binary cross entropy 오차함수 & 생성자와 판별자를 최적화할 Adam 모듈\n",
    "criterion = nn.BCELoss()\n",
    "d_optimizer = optim.Adam(D.parameters(), lr =0.0002)\n",
    "g_optimizer = optim.Adam(G.parameters(), lr =0.0002)"
   ]
  },
  {
   "cell_type": "code",
   "execution_count": null,
   "metadata": {},
   "outputs": [],
   "source": [
    "total_step = len(train_loader)\n",
    "for epoch in range(EPOCHS):\n",
    "    for i, (images, labels) in enumerate(train_loader):\n",
    "        images = images.reshape(BATCH_SIZE, -1).to(DEVICE)\n",
    "        \n",
    "        # '진짜'와 '가짜' 레이블 생성\n",
    "        real_labels = torch.ones(BATCH_SIZE, 1).to(DEVICE)\n",
    "        fake_labels = torch.zeros(BATCH_SIZE, 1).to(DEVICE)\n",
    "\n",
    "        # 판별자가 진짜 이미지를 진짜로 인식하는 오차 계산 (데이터셋 레이블 입력)\n",
    "        labels = labels.to(DEVICE)\n",
    "        outputs = D(images, labels)\n",
    "        d_loss_real = criterion(outputs, real_labels)\n",
    "        real_score = outputs\n",
    "    \n",
    "        # 무작위 텐서와 무작위 레이블을 생성자에 입력해 가짜 이미지 생성\n",
    "        z = torch.randn(BATCH_SIZE, 100).to(DEVICE)\n",
    "        g_label = torch.randint(0, 10, (BATCH_SIZE,)).to(DEVICE)\n",
    "        fake_images = G(z, g_label)\n",
    "        \n",
    "        # 판별자가 가짜 이미지를 가짜로 인식하는 오차 계산\n",
    "        outputs = D(fake_images, g_label)\n",
    "        d_loss_fake = criterion(outputs, fake_labels)\n",
    "        fake_score = outputs\n",
    "        \n",
    "        # 진짜와 가짜 이미지를 갖고 낸 오차를 더해서 판별자의 오차 계산\n",
    "        d_loss = d_loss_real + d_loss_fake\n",
    "        \n",
    "        # 역전파 알고리즘으로 판별자 모델의 학습을 진행\n",
    "        d_optimizer.zero_grad()\n",
    "        g_optimizer.zero_grad()\n",
    "        d_loss.backward()\n",
    "        d_optimizer.step()\n",
    "        \n",
    "        # 생성자가 판별자를 속였는지에 대한 오차 계산(무작위 레이블 입력)\n",
    "        fake_images = G(z, g_label)\n",
    "        outputs = D(fake_images, g_label)\n",
    "        g_loss = criterion(outputs, real_labels)\n",
    "\n",
    "        # 역전파 알고리즘으로 생성자 모델의 학습을 진행\n",
    "        d_optimizer.zero_grad()\n",
    "        g_optimizer.zero_grad()\n",
    "        g_loss.backward()\n",
    "        g_optimizer.step()\n",
    "        \n",
    "    print('이폭 [{}/{}] d_loss:{:.4f} g_loss: {:.4f} D(x):{:.2f} D(G(z)):{:.2f}'\n",
    "          .format(epoch,\n",
    "                  EPOCHS,\n",
    "                  d_loss.item(),\n",
    "                  g_loss.item(),\n",
    "                  real_score.mean().item(),\n",
    "                  fake_score.mean().item()))"
   ]
  },
  {
   "cell_type": "code",
   "execution_count": null,
   "metadata": {},
   "outputs": [],
   "source": [
    "# 만들고 싶은 아이템 생성하고 시각화하기\n",
    "item_number = 9 # 아이템 번호\n",
    "z = torch.randn(1, 100).to(DEVICE) # 배치 크기 1\n",
    "g_label = torch.full((1,), item_number, dtype=torch.long).to(DEVICE)\n",
    "sample_images = G(z, g_label)\n",
    "\n",
    "sample_images_img = np.reshape(sample_images.data.cpu().numpy()\n",
    "                               [0],(28, 28))\n",
    "plt.imshow(sample_images_img, cmap = 'gray')\n",
    "plt.show()"
   ]
  },
  {
   "cell_type": "code",
   "execution_count": null,
   "metadata": {},
   "outputs": [],
   "source": []
  }
 ],
 "metadata": {
  "kernelspec": {
   "display_name": "pytorch",
   "language": "python",
   "name": "pytorch"
  },
  "language_info": {
   "codemirror_mode": {
    "name": "ipython",
    "version": 3
   },
   "file_extension": ".py",
   "mimetype": "text/x-python",
   "name": "python",
   "nbconvert_exporter": "python",
   "pygments_lexer": "ipython3",
   "version": "3.7.9"
  }
 },
 "nbformat": 4,
 "nbformat_minor": 4
}
