{
 "cells": [
  {
   "cell_type": "markdown",
   "metadata": {},
   "source": [
    "#### numpy & list"
   ]
  },
  {
   "cell_type": "code",
   "execution_count": 1,
   "metadata": {},
   "outputs": [
    {
     "name": "stdout",
     "output_type": "stream",
     "text": [
      "\n",
      "=============list=============\n",
      "===========반복문 시작==========\n",
      "\n",
      "기존: [0, 1, 2, 3, 1, 2, 4]\n",
      "반복 0 값: 0\n",
      "y: [100, 1, 2, 3, 1, 2, 4]\n",
      "----------------------------\n",
      "기존: [100, 1, 2, 3, 1, 2, 4]\n",
      "반복 1 값: 100\n",
      "y: [100, 1, 2, 3, 1, 2, 4]\n",
      "----------------------------\n",
      "[100, 1, 2, 3, 1, 2, 4] \n",
      "===========반복문 끝==========\n",
      "\n",
      "\n",
      "=============numpy=============\n",
      "===========반복문 시작==========\n",
      "\n",
      "기존: [100, 1, 2, 3, 1, 2, 4]\n",
      "반복 0 값: [0]\n",
      "y: [100   1   2   3   1   2   4]\n",
      "----------------------------\n",
      "기존: [100, 1, 2, 3, 1, 2, 4]\n",
      "반복 1 값: [1 1]\n",
      "y: [100 100   2   3 100   2   4]\n",
      "----------------------------\n",
      "[100, 1, 2, 3, 1, 2, 4] \n",
      "===========반복문 끝==========\n"
     ]
    }
   ],
   "source": [
    "import numpy as np\n",
    "\n",
    "##리스트는 그냥 True, False 만 판단\n",
    "print(\"\\n=============list=============\")\n",
    "print(\"===========반복문 시작==========\\n\")\n",
    "y = [0,1,2,3,1,2,4]\n",
    "for i in [0,1]:\n",
    "    print(\"기존:\",y)\n",
    "    print(\"반복\",i,\"값:\", y[y==i])\n",
    "    y[y==i] = 100\n",
    "    print(\"y:\",y)\n",
    "    print(\"----------------------------\")    \n",
    "print(y,\"\\n===========반복문 끝==========\\n\")\n",
    "\n",
    "## 넘파이 True의 값 출력 가능\n",
    "print(\"\\n=============numpy=============\")\n",
    "print(\"===========반복문 시작==========\\n\")\n",
    "y1 = np.array([0,1,2,3,1,2,4])\n",
    "for i in [0,1]:\n",
    "    print(\"기존:\",y)\n",
    "    print(\"반복\",i,\"값:\", y1[y1==i])\n",
    "    y1[y1==i] = 100\n",
    "    print(\"y:\",y1)\n",
    "    print(\"----------------------------\")\n",
    "    \n",
    "print(y,\"\\n===========반복문 끝==========\")"
   ]
  },
  {
   "cell_type": "code",
   "execution_count": 5,
   "metadata": {},
   "outputs": [],
   "source": [
    "import torch\n",
    "import numpy\n",
    "from sklearn.datasets import make_blobs\n",
    "import matplotlib.pyplot as plt\n",
    "import torch.nn.functional as F"
   ]
  },
  {
   "cell_type": "code",
   "execution_count": 6,
   "metadata": {},
   "outputs": [],
   "source": [
    "## 데이터 셋 생성\n",
    "### make_blobs: 분류용 데이터셋\n",
    "\n",
    "n_dim = 2 \n",
    "# 2차원 벡터 형태\n",
    "\n",
    "# 레이블 데이터: 몇 번째 클러스터에 속해 있는지 알려주는 인덱스\n",
    "x_train, y_train = make_blobs(n_samples=80, n_features = n_dim,\n",
    "                             centers = [[1,1],[-1,-1],[1,-1],[-1,1]],\n",
    "                             shuffle = True, cluster_std = 0.3)\n",
    "x_test, y_test = make_blobs(n_samples=20, n_features = n_dim,\n",
    "                             centers = [[1,1],[-1,-1],[1,-1],[-1,1]],\n",
    "                             shuffle = True, cluster_std = 0.3)"
   ]
  },
  {
   "cell_type": "code",
   "execution_count": 7,
   "metadata": {},
   "outputs": [],
   "source": [
    "## 4개의 레이블을 2개의 레이블로 변경\n",
    "### 0,1 -> 0 | 2,3 -> 1\n",
    "\n",
    "## y_train = label_map(y_train, [0,1], 0)\n",
    "\n",
    "def label_map(y_, from_, to_):\n",
    "    y = numpy.copy(y_)\n",
    "    for f in from_:\n",
    "        y[y_ == f] = to_ #넘파이라 가능한 수식 #True 일때의 값 꺼내기 가능\n",
    "    return y"
   ]
  },
  {
   "cell_type": "code",
   "execution_count": 8,
   "metadata": {},
   "outputs": [],
   "source": [
    "y_train = label_map(y_train, [0,1], 0)\n",
    "y_train = label_map(y_train, [2,3], 1)\n",
    "y_test = label_map(y_test, [0,1], 0)\n",
    "y_test = label_map(y_test, [2,3], 1)"
   ]
  },
  {
   "cell_type": "code",
   "execution_count": 9,
   "metadata": {},
   "outputs": [
    {
     "data": {
      "image/png": "[encoded data removed]",
      "text/plain": [
       "<Figure size 432x288 with 1 Axes>"
      ]
     },
     "metadata": {
      "needs_background": "light"
     },
     "output_type": "display_data"
    }
   ],
   "source": [
    "## 시각화\n",
    "def vis_data(x,y = None, c ='r'):\n",
    "    if y is None:\n",
    "        y=[None] * len(x)\n",
    "    for x_,y_ in zip(x,y):\n",
    "        if y_ is None:\n",
    "            plt.plot(x_[0], x_[1], '*', markerfacecolor = 'none', makeredgecolor = c)\n",
    "        else:\n",
    "            plt.plot(x_[0], x_[1] , c+'o' if y_ == 0 else c+ '+')\n",
    "            \n",
    "plt.figure()\n",
    "vis_data(x_train, y_train, c= 'r')\n",
    "plt.show()"
   ]
  },
  {
   "cell_type": "code",
   "execution_count": 10,
   "metadata": {},
   "outputs": [],
   "source": [
    "## 넘파이 벡터 형식 데이터를 파이토치 텐서로 바꿔주기\n",
    "x_train = torch.FloatTensor(x_train)\n",
    "x_test = torch.FloatTensor(x_test)\n",
    "y_train = torch.FloatTensor(y_train)\n",
    "y_test = torch.FloatTensor(y_test)"
   ]
  },
  {
   "cell_type": "code",
   "execution_count": 11,
   "metadata": {},
   "outputs": [],
   "source": [
    "class NeuralNet(torch.nn.Module):\n",
    "    def __init__(self, input_size, hidden_size):\n",
    "        super(NeuralNet, self).__init__()\n",
    "        self.input_size = input_size\n",
    "        self.hidden_size = hidden_size\n",
    "        self.linear_1 = torch.nn.Linear(self.input_size, self.hidden_size)\n",
    "        \n",
    "        self.relu = torch.nn.ReLU()\n",
    "        self.linear_2 = torch.nn.Linear(self.hidden_size, 1)\n",
    "        self.sigmoid = torch.nn.Sigmoid()\n",
    "        \n",
    "    def forward(self, input_tensor):\n",
    "        linear1 = self.linear_1(input_tensor)\n",
    "        relu = self.relu(linear1)\n",
    "        linear2 = self.linear_2(relu)\n",
    "        output = self.sigmoid(linear2)\n",
    "        return output"
   ]
  },
  {
   "cell_type": "code",
   "execution_count": 12,
   "metadata": {},
   "outputs": [],
   "source": [
    "## 신경망 모델 생성 및 관련 변수와 알고리즘 정의\n",
    "model = NeuralNet(2,5)\n",
    "learning_rate = 0.03\n",
    "criterion = torch.nn.BCELoss() #Binary ross Entropy\n",
    "epochs = 2000\n",
    "optimizer = torch.optim.SGD(model.parameters(), lr = learning_rate) \n",
    "# 새가중치 = 가중치 - 학습률*가중치에 대한 기울기 "
   ]
  },
  {
   "cell_type": "code",
   "execution_count": 13,
   "metadata": {},
   "outputs": [
    {
     "name": "stdout",
     "output_type": "stream",
     "text": [
      "Before Training, test loss is 0.6945712566375732\n"
     ]
    }
   ],
   "source": [
    "## 학습 전 모델 성능 평가\n",
    "model.eval()\n",
    "test_loss_before = criterion(model(x_test).squeeze(), y_test)\n",
    "print(\"Before Training, test loss is {}\".format(test_loss_before.item()))"
   ]
  },
  {
   "cell_type": "code",
   "execution_count": 14,
   "metadata": {},
   "outputs": [
    {
     "name": "stdout",
     "output_type": "stream",
     "text": [
      "Train Loss at 0 is 0.675230860710144\n",
      "Train Loss at 100 is 0.592369794845581\n",
      "Train Loss at 200 is 0.5254018902778625\n",
      "Train Loss at 300 is 0.47147494554519653\n",
      "Train Loss at 400 is 0.4243232309818268\n",
      "Train Loss at 500 is 0.3786807358264923\n",
      "Train Loss at 600 is 0.3329222798347473\n",
      "Train Loss at 700 is 0.28827640414237976\n",
      "Train Loss at 800 is 0.24608254432678223\n",
      "Train Loss at 900 is 0.2109963595867157\n",
      "Train Loss at 1000 is 0.18182018399238586\n",
      "Train Loss at 1100 is 0.15807290375232697\n",
      "Train Loss at 1200 is 0.13859643042087555\n",
      "Train Loss at 1300 is 0.12260892242193222\n",
      "Train Loss at 1400 is 0.10962005704641342\n",
      "Train Loss at 1500 is 0.09894417971372604\n",
      "Train Loss at 1600 is 0.08999079465866089\n",
      "Train Loss at 1700 is 0.08191107213497162\n",
      "Train Loss at 1800 is 0.07489931583404541\n",
      "Train Loss at 1900 is 0.06885739415884018\n"
     ]
    }
   ],
   "source": [
    "## 신경망 학습\n",
    "for epoch in range(epochs):\n",
    "    model.train()\n",
    "    optimizer.zero_grad()\n",
    "    train_output = model(x_train)\n",
    "    train_loss = criterion(train_output.squeeze(), y_train)\n",
    "    if epoch % 100 ==0:\n",
    "        print(\"Train Loss at {} is {}\".format(epoch, train_loss.item()))\n",
    "    train_loss.backward()\n",
    "    optimizer.step()"
   ]
  },
  {
   "cell_type": "code",
   "execution_count": 15,
   "metadata": {},
   "outputs": [
    {
     "name": "stdout",
     "output_type": "stream",
     "text": [
      "After Training, test loss is 0.05481796711683273\n"
     ]
    }
   ],
   "source": [
    "## 학습 후 모델 성능 평가\n",
    "model.eval()\n",
    "test_loss = criterion(model(x_test).squeeze(), y_test)\n",
    "print(\"After Training, test loss is {}\".format(test_loss.item()))"
   ]
  },
  {
   "cell_type": "code",
   "execution_count": 16,
   "metadata": {},
   "outputs": [
    {
     "name": "stdout",
     "output_type": "stream",
     "text": [
      "state_dict format of the model: OrderedDict([('linear_1.weight', tensor([[ 0.5096,  0.6874],\n",
      "        [ 0.4176,  0.6812],\n",
      "        [-0.4516,  1.6492],\n",
      "        [ 1.9062, -1.0143],\n",
      "        [ 1.6311,  1.8788]])), ('linear_1.bias', tensor([-0.2750, -0.3183,  0.9810, -0.1575, -0.4853])), ('linear_2.weight', tensor([[-0.6829, -0.4928,  1.9429,  2.1345, -2.3833]])), ('linear_2.bias', tensor([-1.8645]))])\n"
     ]
    }
   ],
   "source": [
    "## 학습된 가중치 저장\n",
    "torch.save(model.state_dict(), './model.pt')\n",
    "print(\"state_dict format of the model: {}\".format(model.state_dict()))"
   ]
  },
  {
   "cell_type": "code",
   "execution_count": 17,
   "metadata": {},
   "outputs": [
    {
     "name": "stdout",
     "output_type": "stream",
     "text": [
      "벡터 [-1,1] 이 레이블 1을 가질 확률은 0.984067976474762\n"
     ]
    }
   ],
   "source": [
    "## 저장된 가중치를 불러와 새로운 모델에 적용(전이학습)\n",
    "new_model = NeuralNet(2,5)\n",
    "new_model.load_state_dict(torch.load('./model.pt'))\n",
    "#stat_dict() 함수는 모델 내 가중치들이 딕셔너리 형태로 {연산이름: 가중치 텐서와 평향 텐서}\n",
    "new_model.eval()\n",
    "print(\"벡터 [-1,1] 이 레이블 1을 가질 확률은 {}\".format(new_model(torch.FloatTensor([-1,1])).item()))"
   ]
  },
  {
   "cell_type": "code",
   "execution_count": null,
   "metadata": {},
   "outputs": [],
   "source": []
  },
  {
   "cell_type": "code",
   "execution_count": null,
   "metadata": {},
   "outputs": [],
   "source": []
  }
 ],
 "metadata": {
  "kernelspec": {
   "display_name": "Python 3",
   "language": "python",
   "name": "python3"
  },
  "language_info": {
   "codemirror_mode": {
    "name": "ipython",
    "version": 3
   },
   "file_extension": ".py",
   "mimetype": "text/x-python",
   "name": "python",
   "nbconvert_exporter": "python",
   "pygments_lexer": "ipython3",
   "version": "3.7.6"
  }
 },
 "nbformat": 4,
 "nbformat_minor": 4
}
