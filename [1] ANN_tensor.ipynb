{
 "cells": [
  {
   "cell_type": "markdown",
   "metadata": {},
   "source": [
    "## tensor basic"
   ]
  },
  {
   "cell_type": "code",
   "execution_count": 1,
   "metadata": {},
   "outputs": [],
   "source": [
    "import torch"
   ]
  },
  {
   "cell_type": "markdown",
   "metadata": {},
   "source": [
    "- 1 -> 스칼라, 모양은 []\n",
    "- [1,2,3] -> 벡터, 모양은 [3]\n",
    "- [[1,2,3]] -> 행렬, 모양은 [[1,3]]\n",
    "- [[[1,2,3]]] -> n랭크 텐서, [1,1,3]"
   ]
  },
  {
   "cell_type": "code",
   "execution_count": 2,
   "metadata": {},
   "outputs": [
    {
     "name": "stdout",
     "output_type": "stream",
     "text": [
      "tensor([[1, 2, 3],\n",
      "        [4, 5, 6],\n",
      "        [7, 8, 9]])\n",
      "Size: torch.Size([3, 3])\n",
      "Shape: torch.Size([3, 3])\n",
      "랭크(차원): 2\n"
     ]
    }
   ],
   "source": [
    "x = torch.tensor([[1,2,3],[4,5,6],[7,8,9]])\n",
    "print(x)\n",
    "print(\"Size:\", x.size())\n",
    "print(\"Shape:\", x.shape)\n",
    "print(\"랭크(차원):\", x.ndimension())"
   ]
  },
  {
   "cell_type": "code",
   "execution_count": 3,
   "metadata": {},
   "outputs": [
    {
     "name": "stdout",
     "output_type": "stream",
     "text": [
      "tensor([[[1, 2, 3],\n",
      "         [4, 5, 6],\n",
      "         [7, 8, 9]]])\n",
      "Size: torch.Size([1, 3, 3])\n",
      "Shape: torch.Size([1, 3, 3])\n",
      "랭크(차원): 3\n"
     ]
    }
   ],
   "source": [
    "## 랭크 늘리기\n",
    "x = torch.unsqueeze(x,0)\n",
    "print(x)\n",
    "print(\"Size:\", x.size())\n",
    "print(\"Shape:\", x.shape)\n",
    "print(\"랭크(차원):\", x.ndimension())"
   ]
  },
  {
   "cell_type": "code",
   "execution_count": 4,
   "metadata": {},
   "outputs": [
    {
     "name": "stdout",
     "output_type": "stream",
     "text": [
      "tensor([[1, 2, 3],\n",
      "        [4, 5, 6],\n",
      "        [7, 8, 9]])\n",
      "Size: torch.Size([3, 3])\n",
      "Shape: torch.Size([3, 3])\n",
      "랭크(차원): 2\n"
     ]
    }
   ],
   "source": [
    "## 랭크 줄이기\n",
    "x = torch.squeeze(x)\n",
    "print(x)\n",
    "print(\"Size:\", x.size())\n",
    "print(\"Shape:\", x.shape)\n",
    "print(\"랭크(차원):\", x.ndimension())"
   ]
  },
  {
   "cell_type": "code",
   "execution_count": 5,
   "metadata": {},
   "outputs": [
    {
     "name": "stdout",
     "output_type": "stream",
     "text": [
      "tensor([1, 2, 3, 4, 5, 6, 7, 8, 9])\n",
      "Size: torch.Size([9])\n",
      "Shape: torch.Size([9])\n",
      "랭크(차원): 1\n"
     ]
    }
   ],
   "source": [
    "## 직접 랭크 모양 수정하기[3,3]->[9]\n",
    "x = x.view(9)\n",
    "print(x)\n",
    "print(\"Size:\", x.size())\n",
    "print(\"Shape:\", x.shape)\n",
    "print(\"랭크(차원):\", x.ndimension())"
   ]
  },
  {
   "cell_type": "code",
   "execution_count": 6,
   "metadata": {},
   "outputs": [
    {
     "name": "stdout",
     "output_type": "stream",
     "text": [
      "shape '[2, 4]' is invalid for input of size 9\n"
     ]
    }
   ],
   "source": [
    "try:\n",
    "    x = x.view(2,4)\n",
    "except Exception as e:\n",
    "    print(e) #error 출력"
   ]
  },
  {
   "cell_type": "markdown",
   "metadata": {},
   "source": [
    "## tensor operation"
   ]
  },
  {
   "cell_type": "code",
   "execution_count": 7,
   "metadata": {},
   "outputs": [
    {
     "name": "stdout",
     "output_type": "stream",
     "text": [
      "w size: torch.Size([5, 3])\n",
      "x size: torch.Size([3, 2])\n",
      "w: tensor([[ 0.5607, -0.4729, -2.2407],\n",
      "        [-0.1827,  1.5310, -1.1534],\n",
      "        [-1.2531, -1.1118, -1.4243],\n",
      "        [-1.5190,  0.2427,  1.5574],\n",
      "        [ 0.7624,  0.4797,  0.7442]])\n",
      "x: tensor([[1., 2.],\n",
      "        [3., 4.],\n",
      "        [5., 6.]])\n"
     ]
    }
   ],
   "source": [
    "w = torch.randn(5,3, dtype = torch.float)\n",
    "x = torch.tensor([[1.0,2.0],[3.0,4.0],[5.0,6.0]])\n",
    "print(\"w size:\", w.size()) #[5,3]\n",
    "print(\"x size:\", x.size()) #[3,2]\n",
    "print(\"w:\",w)\n",
    "print(\"x:\",x)"
   ]
  },
  {
   "cell_type": "code",
   "execution_count": 8,
   "metadata": {},
   "outputs": [
    {
     "name": "stdout",
     "output_type": "stream",
     "text": [
      "b.size: torch.Size([5, 2])\n",
      "b: tensor([[-0.9343,  1.0504],\n",
      "        [ 0.4638,  0.1871],\n",
      "        [-0.3930,  1.1864],\n",
      "        [ 0.7504,  0.3117],\n",
      "        [-0.9675, -0.6875]])\n"
     ]
    }
   ],
   "source": [
    "b = torch.randn(5,2, dtype = torch.float)\n",
    "print(\"b.size:\", b.size()) #[5,2]\n",
    "print(\"b:\",b)"
   ]
  },
  {
   "cell_type": "code",
   "execution_count": 9,
   "metadata": {},
   "outputs": [
    {
     "name": "stdout",
     "output_type": "stream",
     "text": [
      "wx size: torch.Size([5, 2])\n",
      "wx: tensor([[-12.0617, -14.2147],\n",
      "        [ -1.3564,  -1.1615],\n",
      "        [-11.7102, -15.4995],\n",
      "        [  6.9963,   7.2775],\n",
      "        [  5.9227,   7.9091]])\n"
     ]
    }
   ],
   "source": [
    "### 내적\n",
    "wx = torch.mm(w,x) \n",
    "print(\"wx size:\", wx.size()) #[5,2]\n",
    "print(\"wx:\",wx)"
   ]
  },
  {
   "cell_type": "code",
   "execution_count": 10,
   "metadata": {},
   "outputs": [
    {
     "name": "stdout",
     "output_type": "stream",
     "text": [
      "result size: torch.Size([5, 2])\n",
      "result: tensor([[-12.9961, -13.1643],\n",
      "        [ -0.8926,  -0.9744],\n",
      "        [-12.1032, -14.3130],\n",
      "        [  7.7467,   7.5892],\n",
      "        [  4.9552,   7.2216]])\n"
     ]
    }
   ],
   "source": [
    "result = wx+b\n",
    "print(\"result size:\", result.size())\n",
    "print(\"result:\", result)"
   ]
  },
  {
   "cell_type": "code",
   "execution_count": null,
   "metadata": {},
   "outputs": [],
   "source": []
  }
 ],
 "metadata": {
  "kernelspec": {
   "display_name": "Python 3",
   "language": "python",
   "name": "python3"
  },
  "language_info": {
   "codemirror_mode": {
    "name": "ipython",
    "version": 3
   },
   "file_extension": ".py",
   "mimetype": "text/x-python",
   "name": "python",
   "nbconvert_exporter": "python",
   "pygments_lexer": "ipython3",
   "version": "3.7.6"
  }
 },
 "nbformat": 4,
 "nbformat_minor": 4
}
